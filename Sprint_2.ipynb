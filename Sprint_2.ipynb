{
 "nbformat": 4,
 "nbformat_minor": 0,
 "metadata": {
  "colab": {
   "name": "Sprint_2.ipynb",
   "provenance": [],
   "collapsed_sections": []
  },
  "kernelspec": {
   "name": "python3",
   "display_name": "Python 3"
  },
  "accelerator": "GPU"
 },
 "cells": [
  {
   "cell_type": "code",
   "metadata": {
    "id": "hQszfgHFikKF",
    "colab_type": "code",
    "outputId": "1bcd7ede-e904-41af-99fe-8de67336c078",
    "colab": {
     "base_uri": "https://localhost:8080/",
     "height": 185
    }
   },
   "source": [
    "!apt install tesseract-ocr\n",
    "!pip3 install python-Levenshtein\n",
    "!pip3 install pytesseract"
   ],
   "execution_count": 0,
   "outputs": [
    {
     "output_type": "stream",
     "text": [
      "Reading package lists... Done\n",
      "Building dependency tree       \n",
      "Reading state information... Done\n",
      "tesseract-ocr is already the newest version (4.00~git2288-10f4998a-2).\n",
      "0 upgraded, 0 newly installed, 0 to remove and 35 not upgraded.\n",
      "Requirement already satisfied: python-Levenshtein in /usr/local/lib/python3.6/dist-packages (0.12.0)\n",
      "Requirement already satisfied: setuptools in /usr/local/lib/python3.6/dist-packages (from python-Levenshtein) (41.4.0)\n",
      "Requirement already satisfied: pytesseract in /usr/local/lib/python3.6/dist-packages (0.3.0)\n",
      "Requirement already satisfied: Pillow in /usr/local/lib/python3.6/dist-packages (from pytesseract) (4.3.0)\n",
      "Requirement already satisfied: olefile in /usr/local/lib/python3.6/dist-packages (from Pillow->pytesseract) (0.46)\n"
     ],
     "name": "stdout"
    }
   ]
  },
  {
   "cell_type": "code",
   "metadata": {
    "id": "PlLSNgNPkPEi",
    "colab_type": "code",
    "colab": {}
   },
   "source": [
    "from PIL import Image\n",
    "import math\n",
    "import numpy as np\n",
    "import torch\n",
    "import torch.utils.data as data_utils\n",
    "\n",
    "## Dataset Loader\n",
    "\n",
    "# adds image border in order to fit in a tensor\n",
    "def add_margin(pil_img, top, right, bottom, left, color):\n",
    "    width, height = pil_img.size\n",
    "    new_width = width + right + left\n",
    "    new_height = height + top + bottom\n",
    "    result = Image.new(pil_img.mode, (new_width, new_height), color)\n",
    "    result.paste(pil_img, (left, top))\n",
    "    return result\n",
    "\n",
    "images = []\n",
    "\n",
    "targets_indices = []\n",
    "\n",
    "batch_size = 5\n",
    "\n",
    "for i in range(5):\n",
    "\n",
    "  img = Image.open(str(i+1) + '.png')\n",
    "  img = add_margin(img, math.floor((59-img.size[1]) / 2), math.floor((1357-img.size[0]) / 2), math.ceil((59-img.size[1]) / 2), math.ceil((1357-img.size[0]) / 2), (255, 255, 255)).convert(\"RGB\")\n",
    "\n",
    "  img = np.array(img)\n",
    "\n",
    "  images.append(img)\n",
    "\n",
    "  targets_indices.append(i)\n",
    "\n",
    "\n",
    "train_data = data_utils.TensorDataset(torch.Tensor(images).permute(0, 3, 1, 2), torch.Tensor(targets_indices))\n",
    "\n",
    "use_cuda = torch.cuda.is_available()\n",
    "kwargs = {'num_workers': 1, 'pin_memory': True} if use_cuda else {}\n",
    "train_loader = torch.utils.data.DataLoader(train_data, batch_size=batch_size, shuffle=False, drop_last=True, **kwargs)\n",
    "\n"
   ],
   "execution_count": 5,
   "outputs": []
  },
  {
   "cell_type": "code",
   "metadata": {
    "id": "66lVDfBIjkZN",
    "colab_type": "code",
    "colab": {}
   },
   "source": [
    "## Convolution Utils\n",
    "\n",
    "def convolve(input):\n",
    "  \n",
    "    n_of_kernels = 2\n",
    "    kernels = []\n",
    "\n",
    "    # hardcoded kernels, generated using unsupervised learning\n",
    "    kernels.append(torch.tensor(\n",
    "        [[[[-0.0990, -0.0997,  0.0955],\n",
    "          [-0.0998,  1.0959,  0.0985],\n",
    "          [ 0.0974,  0.1000,  0.0997]]],\n",
    "\n",
    "\n",
    "        [[[ 0.1000,  0.1000, -0.1000],\n",
    "          [-0.0985,  0.9000,  0.0990],\n",
    "          [-0.0989,  0.0988,  0.0525]]],\n",
    "\n",
    "\n",
    "        [[[ 0.1000,  0.1000, -0.0988],\n",
    "          [ 0.0866,  0.9000,  0.1000],\n",
    "          [ 0.1000,  0.1000, -0.0990]]]]))\n",
    "    \n",
    "    kernels.append(torch.tensor(\n",
    "        [[[[-0.0994,  0.0982,  0.1000],\n",
    "          [ 0.1000,  0.9004, -0.0988],\n",
    "          [ 0.1000, -0.0995, -0.0971]]],\n",
    "\n",
    "\n",
    "        [[[-0.0986,  0.0995,  0.0981],\n",
    "          [-0.1000,  0.9001,  0.0988],\n",
    "          [ 0.0927, -0.0994,  0.1000]]],\n",
    "\n",
    "\n",
    "        [[[-0.0992,  0.1000,  0.1000],\n",
    "          [ 0.1000,  0.9000,  0.0997],\n",
    "          [ 0.1000,  0.1000,  0.0998]]]]))\n",
    "\n",
    "    output = input\n",
    "\n",
    "    # convolve\n",
    "    for i in range(n_of_kernels):\n",
    "        output = torch.nn.functional.conv2d(output, kernels[i], bias=None, padding=1, stride=1, groups=n_of_channels) #.to(device)\n",
    "        output = torch.nn.functional.relu(output)\n",
    "\n",
    "    batch_of_images = output.permute(0,2,3,1) # * 255\n",
    "    batch_of_images = torch.clamp(batch_of_images, 0, 255).type(torch.uint8).cpu().numpy()\n",
    "\n",
    "    return batch_of_images"
   ],
   "execution_count": 6,
   "outputs": []
  },
  {
   "cell_type": "code",
   "metadata": {
    "id": "W7F6y7WmmQNa",
    "colab_type": "code",
    "colab": {}
   },
   "source": [
    "## Score Utils\n",
    "\n",
    "import pytesseract\n",
    "n_of_channels = 3\n",
    "\n",
    "def run_through_tesseract(img):\n",
    "  \n",
    "  img = Image.fromarray(img.squeeze(), 'L' if n_of_channels == 1 else 'RGB')\n",
    "  tess_output = pytesseract.image_to_data(img, output_type=pytesseract.Output.DICT)\n",
    "\n",
    "\n",
    "  recognized_text = ' '.join(s for s in tess_output[\"text\"] if len(s) > 0) \n",
    "  \n",
    "  return recognized_text\n",
    "\n",
    "\n",
    "def compute_score(img, expected_text):\n",
    "\n",
    "  recognized_text = run_through_tesseract(img)\n",
    "\n",
    "  return -Levenshtein.distance(recognized_text, expected_text)"
   ],
   "execution_count": 7,
   "outputs": []
  },
  {
   "cell_type": "code",
   "metadata": {
    "id": "lng64Wkvnpgh",
    "colab_type": "code",
    "outputId": "194957e7-b698-4441-edcb-c70ecda56bf7",
    "colab": {
     "base_uri": "https://localhost:8080/",
     "height": 370
    }
   },
   "source": [
    "## Running Tesseract on Inputs\n",
    "\n",
    "import matplotlib.pyplot as pyplot\n",
    "\n",
    "pytesseract.pytesseract.tesseract_cmd = 'C:\\\\Tesseract-OCR-5\\\\tesseract.exe'\n",
    "\n",
    "for batch_id, (input, target) in enumerate(train_loader):\n",
    "  input = input.permute(0, 2, 3, 1)\n",
    "  input = torch.clamp(input, 0, 255).type(torch.uint8).numpy()\n",
    "\n",
    "  for i in range(batch_size):\n",
    "    recognized_text = run_through_tesseract(input[i])\n",
    "    \n",
    "    fig = pyplot.figure()\n",
    "    fig.text(.5, .05, recognized_text, ha='center')\n",
    "    pyplot.imshow(input[i])\n",
    "\n",
    "\n"
   ],
   "execution_count": 8,
   "outputs": [
    {
     "data": {
      "text/plain": "<Figure size 432x288 with 1 Axes>",
      "image/png": "[encoded data removed]"
     },
     "metadata": {
      "needs_background": "light"
     },
     "output_type": "display_data"
    },
    {
     "data": {
      "text/plain": "<Figure size 432x288 with 1 Axes>",
      "image/png": "[encoded data removed]"
     },
     "metadata": {
      "needs_background": "light"
     },
     "output_type": "display_data"
    },
    {
     "data": {
      "text/plain": "<Figure size 432x288 with 1 Axes>",
      "image/png": "[encoded data removed]"
     },
     "metadata": {
      "needs_background": "light"
     },
     "output_type": "display_data"
    },
    {
     "data": {
      "text/plain": "<Figure size 432x288 with 1 Axes>",
      "image/png": "[encoded data removed]"
     },
     "metadata": {
      "needs_background": "light"
     },
     "output_type": "display_data"
    },
    {
     "data": {
      "text/plain": "<Figure size 432x288 with 1 Axes>",
      "image/png": "[encoded data removed]"
     },
     "metadata": {
      "needs_background": "light"
     },
     "output_type": "display_data"
    }
   ]
  },
  {
   "cell_type": "code",
   "metadata": {
    "id": "4_ENf5uWqL9C",
    "colab_type": "code",
    "outputId": "403f0908-7d6a-4cfd-9f5b-65972f7ef4f7",
    "colab": {
     "base_uri": "https://localhost:8080/",
     "height": 802
    }
   },
   "source": [
    "## Running Tesseract after Conv Preprocessing\n",
    "\n",
    "for batch_id, (input, target) in enumerate(train_loader):\n",
    "\n",
    "  # convolves with hardcoded kernels; also performs shape permutations\n",
    "  conv_result = convolve(input)\n",
    "\n",
    "  for i in range(batch_size):\n",
    "    recognized_text = run_through_tesseract(conv_result[i])\n",
    "      \n",
    "    fig = pyplot.figure()\n",
    "    fig.text(.5, .05, recognized_text, ha='center')\n",
    "    \n",
    "    Image.fromarray(conv_result[i]).save(str(i + 1) + \"_conv.jpg\")\n",
    "    pyplot.imshow(conv_result[i])\n",
    "    #pyplot.savefig(str(i + 1) + \"_conv.jpg\")\n"
   ],
   "execution_count": 9,
   "outputs": [
    {
     "data": {
      "text/plain": "<Figure size 432x288 with 1 Axes>",
      "image/png": "[encoded data removed]"
     },
     "metadata": {
      "needs_background": "light"
     },
     "output_type": "display_data"
    },
    {
     "data": {
      "text/plain": "<Figure size 432x288 with 1 Axes>",
      "image/png": "[encoded data removed]"
     },
     "metadata": {
      "needs_background": "light"
     },
     "output_type": "display_data"
    },
    {
     "data": {
      "text/plain": "<Figure size 432x288 with 1 Axes>",
      "image/png": "[encoded data removed]"
     },
     "metadata": {
      "needs_background": "light"
     },
     "output_type": "display_data"
    },
    {
     "data": {
      "text/plain": "<Figure size 432x288 with 1 Axes>",
      "image/png": "[encoded data removed]"
     },
     "metadata": {
      "needs_background": "light"
     },
     "output_type": "display_data"
    },
    {
     "data": {
      "text/plain": "<Figure size 432x288 with 1 Axes>",
      "image/png": "[encoded data removed]"
     },
     "metadata": {
      "needs_background": "light"
     },
     "output_type": "display_data"
    }
   ]
  },
  {
   "cell_type": "code",
   "execution_count": null,
   "outputs": [],
   "source": [],
   "metadata": {
    "collapsed": false,
    "pycharm": {
     "name": "#%%\n"
    }
   }
  }
 ]
}